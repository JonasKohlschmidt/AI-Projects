{
  "nbformat": 4,
  "nbformat_minor": 0,
  "metadata": {
    "colab": {
      "name": "Wine Quality Modelling",
      "provenance": []
    },
    "kernelspec": {
      "name": "python3",
      "display_name": "Python 3"
    }
  },
  "cells": [
    {
      "cell_type": "markdown",
      "metadata": {
        "id": "Tnm5JAjzRZ32",
        "colab_type": "text"
      },
      "source": [
        "# Wine Quality Modelling\n",
        "\n",
        "A dataset contains chemical characteristics of 6497 different wines, red and white. These characteristics are described numerically by 11 features, like citric acid, alcohol content, and residual sugars. The dataset also contains a quality rating for each wine (1-10), created by sommeliers.\n",
        "\n",
        "The goal is to model the wine quality based on the physicochemical features provided using machine learning techniques.\n",
        "\n",
        "(Data source: http://archive.ics.uci.edu/ml/datasets/Wine+Quality,\n",
        "Paper introducing data: http://www3.dsi.uminho.pt/pcortez/wine5.pdf)"
      ]
    },
    {
      "cell_type": "markdown",
      "metadata": {
        "id": "RhlkR0mSn7t3",
        "colab_type": "text"
      },
      "source": [
        "The project is structured in four parts:\n",
        "\n",
        "\n",
        "1.   Softmax Regression, manual implementation\n",
        "2.   Neural Network, manual implementation\n",
        "3.   Neural Network, tensorflow\n",
        "      *   Adam optimization\n",
        "      *   Mini batch\n",
        "      *   Dropout regularization\n",
        "4.   Support Vector Machines, K-Nearest-Neighbors, sklearn\n",
        "\n"
      ]
    },
    {
      "cell_type": "code",
      "metadata": {
        "id": "xKNqXbWjv9a2",
        "colab_type": "code",
        "colab": {}
      },
      "source": [
        "import numpy as np\n",
        "from scipy import stats\n",
        "import matplotlib.pyplot as plt\n",
        "from sklearn.model_selection import train_test_split\n",
        "from sklearn.preprocessing import StandardScaler\n",
        "from sklearn import metrics\n",
        "from sklearn import svm\n",
        "from sklearn import metrics\n",
        "from sklearn.neighbors import KNeighborsClassifier\n",
        "from sklearn.linear_model import LogisticRegression\n",
        "from sklearn.metrics import confusion_matrix\n",
        "import tensorflow as tf\n",
        "from tensorflow.python.framework import ops\n",
        "from sklearn.model_selection import KFold\n",
        "import math"
      ],
      "execution_count": 0,
      "outputs": []
    },
    {
      "cell_type": "markdown",
      "metadata": {
        "id": "aLlYCIu4W2ce",
        "colab_type": "text"
      },
      "source": [
        "The data consists of two sets, one for red wine and one for white wine, each containing the same describing chemical properties.\n",
        "\n",
        "The sets are divided in feature (X) and label (y) and the red and white wine sets are concatenated, leaving us with six data arrays:\n",
        "\n",
        "\n",
        "*  **X_red**, **y_red** --> features and label for the red wine\n",
        "*   **X_white**, **y_white** --> features and label for the white wine\n",
        "*   **X**, **y** --> features and label for the concatenated set\n",
        "\n",
        "The y vectors are transformed into integers to allow the later one-hot transformation. Additionally, the unused labels are removed (see next text box)"
      ]
    },
    {
      "cell_type": "code",
      "metadata": {
        "id": "laSBrcPev_wy",
        "colab_type": "code",
        "colab": {}
      },
      "source": [
        "# Loading data\n",
        "url_red = 'http://archive.ics.uci.edu/ml/machine-learning-databases/wine-quality/winequality-red.csv'\n",
        "url_white = 'http://archive.ics.uci.edu/ml/machine-learning-databases/wine-quality/winequality-white.csv'\n",
        "\n",
        "data_red = np.genfromtxt(url_red, delimiter=';')[1:]\n",
        "data_white = np.genfromtxt(url_white, delimiter=';')[1:]\n",
        "feature_names = np.genfromtxt(url_red, delimiter=';', dtype=str, encoding=None)[0]\n",
        "feature_names = feature_names.reshape((12,1))\n",
        "\n",
        "X_red, y_red = data_red[:,0:-1], data_red[:,-1]\n",
        "X_white, y_white = data_white[:,0:-1], data_white[:,-1]\n",
        "X, y = np.concatenate((X_red, X_white)), np.concatenate((y_red, y_white))\n",
        "\n",
        "y = y.astype(int)\n",
        "y -= 3\n",
        "y_white = y_white.astype(int)\n",
        "y_white -=3\n",
        "y_red = y_red.astype(int)\n",
        "y_red -=3"
      ],
      "execution_count": 0,
      "outputs": []
    },
    {
      "cell_type": "markdown",
      "metadata": {
        "id": "3U5ecGiIZh1Q",
        "colab_type": "text"
      },
      "source": [
        "Striking about the data exploration is the fact that although quality ratings from 0 to 10 are possible, only ratings from 3 to 9 were given. As there is no data available for the classes 1, 2, and 10, the **multiclass problem is (for now) reduced to 7 classes**.\n",
        "\n",
        "Also striking is the uneven distribution of the quality rating indicating that  a simple network architecture might not be sufficient to solve this problem."
      ]
    },
    {
      "cell_type": "code",
      "metadata": {
        "id": "azpcyoEjZAE_",
        "colab_type": "code",
        "outputId": "cc5df004-e960-443f-a1ef-d308291ecf43",
        "colab": {
          "base_uri": "https://localhost:8080/",
          "height": 329
        }
      },
      "source": [
        "# Data Exploration\n",
        "print('Number red wines:' + str(X_red.shape[0])) \n",
        "print('Number white wines:' + str(X_white.shape[0])) \n",
        "print('Number total:' + str(X.shape[0])) \n",
        "print('\\nFeatures: \\n {}' .format(feature_names[0:-1]))\n",
        "print('\\nClasses of wine: {}' .format(np.unique(y+3)))"
      ],
      "execution_count": 0,
      "outputs": [
        {
          "output_type": "stream",
          "text": [
            "Number red wines:1599\n",
            "Number white wines:4898\n",
            "Number total:6497\n",
            "\n",
            "Features: \n",
            " [['\"fixed acidity\"']\n",
            " ['\"volatile acidity\"']\n",
            " ['\"citric acid\"']\n",
            " ['\"residual sugar\"']\n",
            " ['\"chlorides\"']\n",
            " ['\"free sulfur dioxide\"']\n",
            " ['\"total sulfur dioxide\"']\n",
            " ['\"density\"']\n",
            " ['\"pH\"']\n",
            " ['\"sulphates\"']\n",
            " ['\"alcohol\"']]\n",
            "\n",
            "Classes of wine: [3 4 5 6 7 8 9]\n"
          ],
          "name": "stdout"
        }
      ]
    },
    {
      "cell_type": "markdown",
      "metadata": {
        "id": "2Z8D59TIdCyE",
        "colab_type": "text"
      },
      "source": [
        "The data is preprocessed by mean and standard deviation normalization, the number of labels was reduced and the data is divided into into training (0.8) and test (0.2) set. This ratio seems adequate considering the small amount of available data. "
      ]
    },
    {
      "cell_type": "code",
      "metadata": {
        "id": "R00D-z7QwPW-",
        "colab_type": "code",
        "colab": {}
      },
      "source": [
        "# Red data\n",
        "X_red = stats.zscore(X_red)\n",
        "X_red_train, X_red_test, y_red_train, y_red_test = train_test_split(X_red, y_red, test_size=0.2)\n",
        "X_red_train, X_red_test = X_red_train.T, X_red_test.T\n",
        "\n",
        "# White data\n",
        "X_white = stats.zscore(X_white)\n",
        "X_white_train, X_white_test, y_white_train, y_white_test = train_test_split(X_white, y_white, test_size=0.2)\n",
        "X_white_train, X_white_test = X_white_train.T, X_white_test.T\n",
        "\n",
        "# Mixed data\n",
        "X = stats.zscore(X)\n",
        "X_train, X_test, y_train, y_test = train_test_split(X, y, test_size=0.2)\n",
        "X_train, X_test = X_train.T, X_test.T"
      ],
      "execution_count": 0,
      "outputs": []
    },
    {
      "cell_type": "markdown",
      "metadata": {
        "id": "Bgn3XSEsIXD3",
        "colab_type": "text"
      },
      "source": [
        "## 1) Logistic regression\n",
        "In a first attempt to solve the problem a simple one-layer logistic regression network is used. \n",
        "\n",
        "An implementation by hand (softmax regression) is shown."
      ]
    },
    {
      "cell_type": "markdown",
      "metadata": {
        "id": "YWZ28e3Kdq9d",
        "colab_type": "text"
      },
      "source": [
        "### Manual softmax regression implementation\n",
        "\n",
        "\n",
        "For this approach the following functions were written:\n",
        "\n",
        "*   **optimize**: Combining forward pass, backward pass, cost calculation and parameter update, thus optimizing the weights with respect to the chosen number of iterations and learning rate using gradient descent\n",
        "*   **predict**: Calculates the predicted labels using the trained weights\n",
        "*   **softmax**: Activation function for the softmax layer\n",
        "*   **L_softmax**: Determines the multiclass loss using predicted and actual labels\n",
        "*   **one_hot**: Converts the class label vector into a one-hot matrix to to dteermine the multiclass loss\n",
        "*   **he_init**: Initializes the weight matrix W according to the method introduced by He et al (https://arxiv.org/abs/1502.01852). Since we're using a softmax and therefore a multi-node output layer a non-zero initialization is necessary to break symmetry.\n",
        "\n",
        "\n",
        "As we are dealing with a network without hidden layers, softmax remains the only activation function, an implementation of sigmoid and/or (leaky) ReLU is not needed."
      ]
    },
    {
      "cell_type": "code",
      "metadata": {
        "id": "k6Q0KVuAw6yC",
        "colab_type": "code",
        "colab": {}
      },
      "source": [
        "# Optimize\n",
        "def optimize(w, b, X, Y, num_iterations, learning_rate, lambd, print_cost = False):\n",
        "  \n",
        "  costs = []\n",
        "        \n",
        "  for i in range(num_iterations):\n",
        "\n",
        "      m = X.shape[1]\n",
        "      n = Y.shape[0]\n",
        "\n",
        "      Z = np.dot(w,X) + b\n",
        "      A = softmax(Z)\n",
        "      cost = (1/m) * np.sum(L_softmax(A, Y)) \n",
        "      cost -= lambd * np.sum(np.square(w)) / (2 * m)\n",
        "\n",
        "      dw = (1/m) * np.dot(X, (A-Y).T).T\n",
        "      dw -= (lambd * w) / m\n",
        "      db = ((1/m) * np.sum(A - Y, axis = 1)).reshape(n,1)\n",
        "\n",
        "      grads = {\"dw\": dw, \"db\": db}\n",
        "      dw = grads[\"dw\"]\n",
        "      db = grads[\"db\"]\n",
        "\n",
        "      w = w - learning_rate * dw\n",
        "      b = b - learning_rate * db\n",
        "\n",
        "      if i % 100 == 0:\n",
        "          costs.append(cost)\n",
        "\n",
        "      if print_cost and i % 100 == 0:\n",
        "          print (\"Cost after iteration %i: %f\" %(i, cost))\n",
        "\n",
        "  params = {\"w\": w,\n",
        "            \"b\": b}\n",
        "\n",
        "  grads = {\"dw\": dw,\n",
        "           \"db\": db}\n",
        "\n",
        "  return params, grads, costs\n",
        "\n",
        "\n",
        "# Prediction\n",
        "def predict(w, b, X):\n",
        "   \n",
        "  Z = np.dot(w,X) + b\n",
        "  A = softmax(Z)\n",
        "\n",
        "  return np.where(A == np.amax(A, 0))[0]\n",
        "\n",
        "\n",
        "# Softmax\n",
        "def softmax(x):\n",
        "\n",
        "  x_exp = np.exp(x)\n",
        "  x_sum = np.sum(x_exp, axis = 0, keepdims = True)\n",
        "\n",
        "  return x_exp / x_sum\n",
        "\n",
        "\n",
        "# Softmax loss\n",
        "def L_softmax(yhat, y):\n",
        "  \n",
        "  hadamard = np.multiply(y, np.log(yhat))\n",
        "  hadamard[np.isneginf(hadamard)]=0\n",
        "\n",
        "  return np.nansum(hadamard, axis=0)\n",
        "\n",
        "\n",
        "# One-hot transformation\n",
        "def one_hot(a, num_classes):\n",
        "  \n",
        "  return np.squeeze(np.eye(num_classes)[a.reshape(-1)])\n",
        "\n",
        "\n",
        "# He initialization\n",
        "def he_init(size_1, size_0):\n",
        "\n",
        "  return np.random.randn(size_1,size_0) * np.sqrt(2/size_0)"
      ],
      "execution_count": 0,
      "outputs": []
    },
    {
      "cell_type": "markdown",
      "metadata": {
        "id": "3xeu8h5fOqLQ",
        "colab_type": "text"
      },
      "source": [
        "To initialize the data for the optimizing function, the weight arrays W and b are created and y is transformed into a one-hot matrix. "
      ]
    },
    {
      "cell_type": "code",
      "metadata": {
        "id": "SdK_mf1axFNE",
        "colab_type": "code",
        "outputId": "09593c0a-c1f3-461b-cbce-98f1bbe78ffa",
        "colab": {
          "base_uri": "https://localhost:8080/",
          "height": 87
        }
      },
      "source": [
        "# 1) Initialize\n",
        "nr_classes = np.unique(y).shape[0]\n",
        "nr_features = X.shape[1]\n",
        "\n",
        "y_use = one_hot(y_train, 7).T # transform y into one-hot vectors\n",
        "W = he_init(nr_classes,nr_features) # use He et al initialization for W\n",
        "b = np.zeros((nr_classes,1)) # initialize b with zeros\n",
        "\n",
        "print('Shape y_use: {}' .format(y_use.shape))\n",
        "print('Shape X_train: {}' .format(X_train.shape))\n",
        "print('Shape W: {}' .format(W.shape))\n",
        "print('Shape b: {}' .format(b.shape))"
      ],
      "execution_count": 0,
      "outputs": [
        {
          "output_type": "stream",
          "text": [
            "Shape y_use: (7, 5197)\n",
            "Shape X_train: (11, 5197)\n",
            "Shape W: (7, 11)\n",
            "Shape b: (7, 1)\n"
          ],
          "name": "stdout"
        }
      ]
    },
    {
      "cell_type": "markdown",
      "metadata": {
        "id": "dkMkyWp4CaJT",
        "colab_type": "text"
      },
      "source": [
        "The optimize function is executed to learn the best parameters for W and b. The cost over the iterations shows a steady inclination."
      ]
    },
    {
      "cell_type": "code",
      "metadata": {
        "id": "z7iR6tmpGxdf",
        "colab_type": "code",
        "outputId": "53a9fd9a-167f-4596-c2cc-a560055904af",
        "colab": {
          "base_uri": "https://localhost:8080/",
          "height": 295
        }
      },
      "source": [
        "# 2) Run & plot\n",
        "params, grads, costs = optimize(W, b, X_train, y_use, num_iterations=4000, lambd=0,\n",
        "                                learning_rate=0.01)\n",
        "costs = np.squeeze(costs)\n",
        "plt.plot(costs)\n",
        "plt.ylabel('cost')\n",
        "plt.xlabel('iterations (per hundreds)')\n",
        "plt.title(\"Learning rate = 0.02\")\n",
        "plt.show()"
      ],
      "execution_count": 0,
      "outputs": [
        {
          "output_type": "display_data",
          "data": {
            "image/png": "[encoded data removed]",
            "text/plain": [
              "<Figure size 432x288 with 1 Axes>"
            ]
          },
          "metadata": {
            "tags": []
          }
        }
      ]
    },
    {
      "cell_type": "markdown",
      "metadata": {
        "id": "MckLd4c0O7xE",
        "colab_type": "text"
      },
      "source": [
        "A multiclass confusion matrix is created. This makes it easy to compute the accuracy as well as the accuracy for data mislabeled into a neighbouring class.\n",
        "\n",
        "\n",
        "The expected accuracy for random guesses with 7 classes is 14.3%. The here achieved accuracy for training and test set is **lower than 40%**. This is a bad result, not even every second wine gets labeled correctly. Nevertheless it is above the accuracy for random guessing, showing that the manual implementation works. And the accuracy for examples labeled into a neighbouring class is quite high with almost 90%.\n",
        "\n",
        "As accuracies for both sets are similar we don't face a problem of overfitting. In addition to the flattened out cost curve after 2000 iterations, which shows that the computational power of the logistic regression is exploited. It can be concluded that a one layer network is not suitable to face the wine classification. Following this intense hyperparameter tuning and polynomial prediction was waived, since the result using this architecture would not be satisfying in any case."
      ]
    },
    {
      "cell_type": "code",
      "metadata": {
        "id": "oRDTSP66HMkl",
        "colab_type": "code",
        "outputId": "19c4d1f3-4fbc-45a4-ca87-0f3a7d763124",
        "colab": {
          "base_uri": "https://localhost:8080/",
          "height": 104
        }
      },
      "source": [
        "# 3) Determine accuracy\n",
        "y_pred_train = predict(params['w'], params['b'], X_train)\n",
        "y_pred_test = predict(params['w'], params['b'], X_test)\n",
        "labels=[0, 1, 2, 3, 4, 5, 6, 7]\n",
        "\n",
        "cm_train = confusion_matrix(y_train, y_pred_train, labels=labels)\n",
        "cm_test = confusion_matrix(y_test, y_pred_test, labels=labels)\n",
        "with_offset_train = np.trace(cm_train) + np.trace(cm_train, offset=1) + np.trace(cm_train, offset=-1)\n",
        "with_offset_test = np.trace(cm_test) + np.trace(cm_test, offset=1) + np.trace(cm_test, offset=-1)\n",
        "\n",
        "print('Accuracy training set: {0:.2f}%' .format((np.trace(cm_train) / np.sum(cm_train)) * 100)) \n",
        "print('Accuracy validation set: {0:.2f}%' .format((np.trace(cm_test) / np.sum(cm_test)) * 100))\n",
        "\n",
        "print('\\nAccuracy training set including offset +-1: {0:.2f}%' .format((with_offset_train / np.sum(cm_train)) * 100))\n",
        "print('Accuracy validation set including offset +-1: {0:.2f}%' .format((with_offset_test / np.sum(cm_test)) * 100))"
      ],
      "execution_count": 0,
      "outputs": [
        {
          "output_type": "stream",
          "text": [
            "Accuracy training set: 38.62%\n",
            "Accuracy validation set: 38.46%\n",
            "\n",
            "Accuracy training set including offset +-1: 87.09%\n",
            "Accuracy validation set including offset +-1: 85.92%\n"
          ],
          "name": "stdout"
        }
      ]
    },
    {
      "cell_type": "markdown",
      "metadata": {
        "id": "TA6ZTEuhiRdE",
        "colab_type": "text"
      },
      "source": [
        "## 2) Neural Networks\n",
        "As concluded in section 1), the wine classification requires a more complex architecture. Thus, this section looks into the application of neural networks. Similar to the previous section, first, a manual implementation of a neural network is tested. Second, an implementation using the programming framework tensorflow is carried out."
      ]
    },
    {
      "cell_type": "markdown",
      "metadata": {
        "id": "5uSYa0uYEyAg",
        "colab_type": "text"
      },
      "source": [
        "### 2-hidden layer manual implementaion\n",
        "\n",
        "\n",
        "For this approach the following functions were written:\n",
        "\n",
        "\n",
        "*   **relu:** Implememts the ReLU activation function\n",
        "*   **relu_backwards:** Implements the derivation of the ReLU function\n",
        "*   **init_weights:** Initializes the weight matrices W and bis vectors b using the He-Initialization\n",
        "*   **forward_propagation:** Computes the forward computation graph\n",
        "*   **backward_propagation:** Computes the backward computation graph\n",
        "*   **update_weights:** Updates the weight parameters using the derivations of the backward propagation\n",
        "*   **model:** Puts the above described functions together in an executable model training a 2-hidden layer neural network using gradient descent optimization and softmax output.\n",
        "\n",
        "\n"
      ]
    },
    {
      "cell_type": "code",
      "metadata": {
        "id": "QyOnHx6-1r6f",
        "colab_type": "code",
        "colab": {}
      },
      "source": [
        "# ReLU\n",
        "def relu(z):\n",
        "  \n",
        "  return np.maximum(0,z)\n",
        "\n",
        "# ReLU backwards\n",
        "def relu_backwards(z):\n",
        "  \n",
        "    z[z<=0] = 0\n",
        "    z[z>0] = 1\n",
        "    \n",
        "    return z\n",
        "  \n",
        "# Initializing weights\n",
        "def init_weights(layer_vec):\n",
        "  \n",
        "  L = layer_vec.shape[0] - 1\n",
        "  weights = {}\n",
        "  \n",
        "  for i in range(L):\n",
        "    W = he_init(layer_vec[i+1], layer_vec[i])\n",
        "    b = np.zeros((layer_vec[i+1], 1))\n",
        "    \n",
        "    weights.update({\"W\" + str(i+1): W,\n",
        "                    \"b\" + str(i+1): b})\n",
        "  \n",
        "  return weights\n",
        "\n",
        "# Forward prop\n",
        "def forward_propagation(X, weights):\n",
        "    W1 = weights['W1']\n",
        "    b1 = weights['b1']\n",
        "    W2 = weights['W2']\n",
        "    b2 = weights['b2']\n",
        "    W3 = weights['W3']\n",
        "    b3 = weights['b3']\n",
        "\n",
        "    Z1 = np.dot(W1, X) + b1\n",
        "    A1 = relu(Z1)\n",
        "    Z2 = np.dot(W2, A1) + b2\n",
        "    A2 = relu(Z2)\n",
        "    Z3 = np.dot(W3, A2) + b3\n",
        "    A3 = softmax(Z3)\n",
        "        \n",
        "    cache = {'Z1': Z1,\n",
        "             'A1': A1,\n",
        "             'Z2': Z2,\n",
        "             'A2': A2,\n",
        "             'Z3': Z3,\n",
        "             'A3': A3,}\n",
        "    \n",
        "    return A3, cache\n",
        "\n",
        "# Back prop  \n",
        "def backward_propagation(weights, cache, X, Y):\n",
        "\n",
        "    m = X.shape[1]\n",
        "    \n",
        "    W1 = weights['W1']\n",
        "    W2 = weights['W2']\n",
        "    W3 = weights['W3']\n",
        "        \n",
        "    A1 = cache['A1']\n",
        "    A2 = cache['A2']\n",
        "    A3 = cache['A3']\n",
        "    \n",
        "    dZ3 = A3 - Y\n",
        "    dW3 = (1/m) * np.dot(A2, (dZ3).T).T\n",
        "    db3 = (1/m) * np.sum(dZ3, axis=1, keepdims=True)\n",
        "    dZ2 = relu_backwards(A2)\n",
        "    dW2 = (1/m) * np.dot(A1, (dZ2).T).T\n",
        "    db2 = (1/m) * np.sum(dZ2, axis=1, keepdims=True)\n",
        "    dZ1 = relu_backwards(A1)\n",
        "    dW1 = (1/m) * np.dot(X, (dZ1).T).T\n",
        "    db1 = (1/m) * np.sum(dZ1, axis=1, keepdims=True)\n",
        "    \n",
        "    grads = {'dW1': dW1,\n",
        "             'db1': db1,\n",
        "             'dW2': dW2,\n",
        "             'db2': db2,\n",
        "             'dW3': dW3,\n",
        "             'db3': db3}\n",
        "    \n",
        "    return grads\n",
        "  \n",
        "# Parameter update\n",
        "def update_weights(weights, grads, learning_rate):\n",
        "\n",
        "    W1 = weights['W1']\n",
        "    b1 = weights['b1']\n",
        "    W2 = weights['W2']\n",
        "    b2 = weights['b2']\n",
        "    W3 = weights['W3']\n",
        "    b3 = weights['b3']\n",
        "\n",
        "    dW1 = grads['dW1']\n",
        "    db1 = grads['db1']\n",
        "    dW2 = grads['dW2']\n",
        "    db2 = grads['db2']\n",
        "    dW3 = grads['dW3']\n",
        "    db3 = grads['db3']\n",
        "\n",
        "    W1 = W1 - learning_rate * dW1\n",
        "    b1 = b1 - learning_rate * db1\n",
        "    W2 = W2 - learning_rate * dW2\n",
        "    b2 = b2 - learning_rate * db2\n",
        "    W3 = W3 - learning_rate * dW3\n",
        "    b3 = b3 - learning_rate * db3\n",
        "\n",
        "    weights = {'W1': W1,\n",
        "               'b1': b1,\n",
        "               'W2': W2,\n",
        "               'b2': b2,\n",
        "               'W3': W3,\n",
        "               'b3': b3}\n",
        "    \n",
        "    return weights\n",
        "  \n",
        "# Put it all together\n",
        "def model(X, y, layer_vec, num_iterations, learning_rate):\n",
        "  \n",
        "  weights = init_weights(layer_vec)\n",
        "  m = X.shape[1]\n",
        "  costs = []\n",
        "  \n",
        "  for i in range(num_iterations):\n",
        "    A3, cache = forward_propagation(X, weights)\n",
        "    cost = (1/m) * np.sum(L_softmax(A3, y)) \n",
        "    grads = backward_propagation(weights, cache, X, y)\n",
        "    weights = update_weights(weights, grads, learning_rate)\n",
        "    \n",
        "    if i % 100 == 0:\n",
        "          costs.append(cost)\n",
        "                \n",
        "  return weights, grads, costs"
      ],
      "execution_count": 0,
      "outputs": []
    },
    {
      "cell_type": "markdown",
      "metadata": {
        "id": "wQNp3mw7hLwY",
        "colab_type": "text"
      },
      "source": [
        "A neural network with the following architecture is tested:\n",
        "*   Input layer: 11 nodes\n",
        "*   hidden layer 1: 15 nodes\n",
        "*   hidden layer 2: 12 nodes\n",
        "*   softmax output: 7 nodes\n",
        "\n",
        "This is not a fine tuned architecture, it serves the purpose of giving a first overview of a neural network in comparison to the logistic regression implementation. Further will be said in the next section.\n",
        "\n",
        "The cost curve shows steady inclination, indicating that the implementation works as expected."
      ]
    },
    {
      "cell_type": "code",
      "metadata": {
        "id": "TZ7WfdaMBSIN",
        "colab_type": "code",
        "outputId": "cba94a95-dd7e-48ac-8099-25ec7778c725",
        "colab": {
          "base_uri": "https://localhost:8080/",
          "height": 295
        }
      },
      "source": [
        "layer_vec = np.array([11, 15, 12, 7])\n",
        "l_rate = 0.01\n",
        "\n",
        "weights, grads, costs = model(X_train, y_use, layer_vec = layer_vec, num_iterations=5000, learning_rate=l_rate)\n",
        "\n",
        "plt.plot(np.squeeze(costs))\n",
        "plt.ylabel('cost')\n",
        "plt.xlabel('iterations in 100')\n",
        "plt.title('learning rate = ' + str(l_rate))\n",
        "plt.show()"
      ],
      "execution_count": 0,
      "outputs": [
        {
          "output_type": "display_data",
          "data": {
            "image/png": "[encoded data removed]",
            "text/plain": [
              "<Figure size 432x288 with 1 Axes>"
            ]
          },
          "metadata": {
            "tags": []
          }
        }
      ]
    },
    {
      "cell_type": "markdown",
      "metadata": {
        "id": "MH89ywKCiTZd",
        "colab_type": "text"
      },
      "source": [
        "The following code computes the accuracy of training and validation set. It is shown that the neural network provides an increased accuracy compared to the logistic regression used above."
      ]
    },
    {
      "cell_type": "code",
      "metadata": {
        "id": "bXWSuDzBS6S_",
        "colab_type": "code",
        "outputId": "ca93006e-dda8-4eba-fefb-5c8d16d78acc",
        "colab": {
          "base_uri": "https://localhost:8080/",
          "height": 52
        }
      },
      "source": [
        "y_pred_train = forward_propagation(X_train, weights)[0]\n",
        "y_pred_train = np.where(y_pred_train == np.amax(y_pred_train, 0))[0]\n",
        "y_pred_test = forward_propagation(X_test, weights)[0]\n",
        "y_pred_test = np.where(y_pred_test == np.amax(y_pred_test, 0))[0]\n",
        "labels=[0, 1, 2, 3, 4, 5, 6, 7]\n",
        "\n",
        "cm_train = confusion_matrix(y_train, y_pred_train, labels=labels)\n",
        "cm_test = confusion_matrix(y_test, y_pred_test, labels=labels)\n",
        "\n",
        "\n",
        "print('Accuracy training set: {0:.2f}%' .format((np.trace(cm_train) / np.sum(cm_train)) * 100)) \n",
        "print('Accuracy validation set: {0:.2f}%' .format((np.trace(cm_test) / np.sum(cm_test)) * 100))"
      ],
      "execution_count": 0,
      "outputs": [
        {
          "output_type": "stream",
          "text": [
            "Accuracy training set: 43.66%\n",
            "Accuracy validation set: 43.62%\n"
          ],
          "name": "stdout"
        }
      ]
    },
    {
      "cell_type": "markdown",
      "metadata": {
        "id": "LpUypYm1MMxf",
        "colab_type": "text"
      },
      "source": [
        "### 2-hidden layer tensorflow implementaion\n",
        "\n",
        "In a second attempt a neural network is implemented in tensorflow to ease the use of further machine learning techniques and increase the validation set accuracy.\n",
        "\n",
        "To make use of the programming framework tensorflow the following functions are introduced:\n",
        "\n",
        "\n",
        "\n",
        "*   **forward_propagation:** Computes the forward computation graph of the neural network. This includes the dropout layers responsible for the regularization. ReLU is used as activation\n",
        "*   **one_hot_matrix:** Serves the same function as the already introduced **one_hot** function, but makes use of the implemented function in tensorflow\n",
        "*   **create_placeholders:** Creates placeholders that are used in the computation graph and are filled with values to execute said graph. In this case the function is used to create placeholders for X and Y\n",
        "*   **initialize_parameters:** Initializes the weight matrices W and bias vectors b, and therefore the network architecture is determined here. To increase the performance of the neural network the Xavier-initialization is used (http://proceedings.mlr.press/v9/glorot10a/glorot10a.pdf)\n",
        "*   **random_mini_batches:** to increase the computational speed of the neural network mini batches are used, which are randomly initialized using this function\n",
        "*   **compute_cost:** computes the cross entropy loss\n",
        "*   **model:** combines the functions introduced above to run a neural network using dropout regularization, mini batches, and Adam optimization.\n"
      ]
    },
    {
      "cell_type": "code",
      "metadata": {
        "id": "-lR3jjsGM4NV",
        "colab_type": "code",
        "colab": {}
      },
      "source": [
        "def forward_propagation(X, parameters, dropout_rate):\n",
        "\n",
        "    W1 = parameters['W1']\n",
        "    b1 = parameters['b1']\n",
        "    W2 = parameters['W2']\n",
        "    b2 = parameters['b2']\n",
        "    W3 = parameters['W3']\n",
        "    b3 = parameters['b3']\n",
        "    \n",
        "    Z1 = tf.add(tf.matmul(W1, tf.nn.dropout(X,rate=dropout_rate)), b1)\n",
        "    A1 = tf.nn.relu(Z1)\n",
        "    Z2 = tf.add(tf.matmul(W2, tf.nn.dropout(A1,rate=dropout_rate)), b2)\n",
        "    A2 = tf.nn.relu(Z2)\n",
        "    Z3 = tf.add(tf.matmul(W3, A2), b3)\n",
        "    \n",
        "    return Z3\n",
        "  \n",
        "def model(X_train, Y_train, X_test, Y_test, learning_rate = 0.0001,\n",
        "          num_epochs = 1000, minibatch_size = 32, print_cost = True, dropout_rate = 0, plot = True):\n",
        "\n",
        "    ops.reset_default_graph()\n",
        "    (n_x, m) = X_train.shape\n",
        "    n_y = Y_train.shape[0]\n",
        "    costs = [] \n",
        "    costs_test = []\n",
        "\n",
        "    X, Y = create_placeholders(n_x, n_y)\n",
        "    parameters = initialize_parameters()\n",
        "\n",
        "    Z = forward_propagation(X, parameters, dropout_rate)\n",
        "    cost = compute_cost(Z, Y)\n",
        "    optimizer = tf.train.AdamOptimizer(learning_rate=learning_rate).minimize(cost)\n",
        "    init = tf.global_variables_initializer()\n",
        "\n",
        "    with tf.Session() as sess:\n",
        "      \n",
        "        sess.run(init)\n",
        "        \n",
        "        for epoch in range(num_epochs):\n",
        "\n",
        "            epoch_cost = 0.\n",
        "            num_minibatches = int(m / minibatch_size)\n",
        "            minibatches = random_mini_batches(X_train, Y_train, minibatch_size)\n",
        "\n",
        "            for minibatch in minibatches:\n",
        "\n",
        "                (minibatch_X, minibatch_Y) = minibatch\n",
        "\n",
        "                _ , minibatch_cost = sess.run([optimizer, cost], feed_dict={X: minibatch_X, Y: minibatch_Y})\n",
        "                \n",
        "                epoch_cost += minibatch_cost / num_minibatches\n",
        "                \n",
        "            epoche_cost_test = sess.run(cost, feed_dict={X: X_test, Y: Y_test})\n",
        "            \n",
        "#             if print_cost == True and epoch % 100 == 0:\n",
        "#             \tprint (\"Cost after epoch %i: %f\" % (epoch, epoch_cost))\n",
        "            if epoch % 5 == 0:\n",
        "                costs.append(epoch_cost)\n",
        "                costs_test.append(epoche_cost_test)\n",
        "                \n",
        "        if plot == True:     \n",
        "          plt.plot(np.squeeze(costs), label='Train')\n",
        "          plt.plot(np.squeeze(costs_test), label='Validation')\n",
        "          plt.ylabel('cost')\n",
        "          plt.xlabel('iterations (per tens)')\n",
        "          plt.title(\"Learning rate =\" + str(learning_rate))\n",
        "          plt.legend(bbox_to_anchor=(1.05, 1), loc='upper left', borderaxespad=0.)\n",
        "          plt.show()\n",
        "\n",
        "        parameters = sess.run(parameters)\n",
        "\n",
        "        correct_prediction = tf.equal(tf.argmax(Z), tf.argmax(Y))\n",
        "        accuracy = tf.reduce_mean(tf.cast(correct_prediction, \"float\"))\n",
        "        acc_train = accuracy.eval({X: X_train, Y: Y_train})\n",
        "        acc_val = accuracy.eval({X: X_test, Y: Y_test})\n",
        "        \n",
        "        scores = {\"cost_train\" : epoch_cost,\n",
        "                  \"cost_val\" : epoche_cost_test,\n",
        "                  \"acc_train\" : acc_train,\n",
        "                  \"acc_val\" : acc_val}\n",
        "        \n",
        "        return parameters, scores\n",
        "\n",
        "def one_hot_matrix(labels, C):\n",
        "\n",
        "    C = tf.constant(C, name='C')\n",
        "\n",
        "    one_hot_matrix = tf.one_hot(indices=labels, depth=C, axis=0)\n",
        "\n",
        "    sess = tf.Session()\n",
        "\n",
        "    one_hot = sess.run(one_hot_matrix)\n",
        "\n",
        "    sess.close()\n",
        "\n",
        "    return one_hot\n",
        "  \n",
        "def create_placeholders(n_x, n_y):\n",
        "\n",
        "    X = tf.placeholder(tf.float32, [n_x, None], name=\"X\")\n",
        "    Y = tf.placeholder(tf.float32, [n_y, None], name=\"Y\")\n",
        "    \n",
        "    return X, Y\n",
        "  \n",
        "def initialize_parameters():\n",
        "\n",
        "    W1 = tf.get_variable(\"W1\", [20, 11], initializer = tf.contrib.layers.xavier_initializer())\n",
        "    b1 = tf.get_variable(\"b1\", [20, 1], initializer = tf.zeros_initializer())\n",
        "    W2 = tf.get_variable(\"W2\", [14, 20], initializer = tf.contrib.layers.xavier_initializer())\n",
        "    b2 = tf.get_variable(\"b2\", [14, 1], initializer = tf.zeros_initializer())\n",
        "    W3 = tf.get_variable(\"W3\", [7, 14], initializer = tf.contrib.layers.xavier_initializer())\n",
        "    b3 = tf.get_variable(\"b3\", [7, 1], initializer = tf.zeros_initializer())\n",
        "\n",
        "    parameters = {\"W1\": W1,\n",
        "                  \"b1\": b1,\n",
        "                  \"W2\": W2,\n",
        "                  \"b2\": b2,\n",
        "                  \"W3\": W3,\n",
        "                  \"b3\": b3}\n",
        "    \n",
        "    return parameters\n",
        "  \n",
        "def random_mini_batches(X, Y, mini_batch_size = 64, seed = 0):\n",
        "\n",
        "    m = X.shape[1]\n",
        "    mini_batches = []\n",
        "    np.random.seed(seed)\n",
        "    \n",
        "    permutation = list(np.random.permutation(m))\n",
        "    shuffled_X = X[:, permutation]\n",
        "    shuffled_Y = Y[:, permutation].reshape((Y.shape[0],m))\n",
        "\n",
        "    num_complete_minibatches = math.floor(m/mini_batch_size)\n",
        "    for k in range(0, num_complete_minibatches):\n",
        "        mini_batch_X = shuffled_X[:, k * mini_batch_size : k * mini_batch_size + mini_batch_size]\n",
        "        mini_batch_Y = shuffled_Y[:, k * mini_batch_size : k * mini_batch_size + mini_batch_size]\n",
        "        mini_batch = (mini_batch_X, mini_batch_Y)\n",
        "        mini_batches.append(mini_batch)\n",
        "    \n",
        "    if m % mini_batch_size != 0:\n",
        "        mini_batch_X = shuffled_X[:, num_complete_minibatches * mini_batch_size : m]\n",
        "        mini_batch_Y = shuffled_Y[:, num_complete_minibatches * mini_batch_size : m]\n",
        "        mini_batch = (mini_batch_X, mini_batch_Y)\n",
        "        mini_batches.append(mini_batch)\n",
        "    \n",
        "    return mini_batches\n",
        "  \n",
        "def compute_cost(Z, Y):\n",
        "\n",
        "    logits = tf.transpose(Z)\n",
        "    labels = tf.transpose(Y)\n",
        "    \n",
        "    cost = tf.reduce_mean(tf.nn.softmax_cross_entropy_with_logits(logits=logits, labels=labels))\n",
        "    \n",
        "    return cost"
      ],
      "execution_count": 0,
      "outputs": []
    },
    {
      "cell_type": "code",
      "metadata": {
        "id": "6u88xCZz1kUO",
        "colab_type": "code",
        "colab": {}
      },
      "source": [
        "y_red_train = one_hot_matrix(y_red_train, 7)\n",
        "y_red_test = one_hot_matrix(y_red_test, 7)\n",
        "y_white_train = one_hot_matrix(y_white_train, 7)\n",
        "y_white_test = one_hot_matrix(y_white_test, 7)\n",
        "y_train = one_hot_matrix(y_train, 7)\n",
        "y_test = one_hot_matrix(y_test, 7)"
      ],
      "execution_count": 0,
      "outputs": []
    },
    {
      "cell_type": "markdown",
      "metadata": {
        "id": "wjAQDdryM9Uj",
        "colab_type": "text"
      },
      "source": [
        "In a first step, a network architecture is chosen. Goal is too slightly overfit each training set, to be sure the networks computing provides enough complexity to be up to the task of fitting the data. \n",
        "\n",
        "The following architecture has proven to provide sufficient complexity:\n",
        "\n",
        "\n",
        "*   Input layer: 11 nodes\n",
        "*   hidden layer 1: 20 nodes\n",
        "*   hidden layer 2: 14 nodes\n",
        "*   softmax output: 7 nodes\n",
        "\n",
        "\n",
        "The overfitting can be seen in the learning curves for each data set, as by increasing number of iterations the training set costs decrease and the validation set costs increase. Since it is harder to overfit bigger data sets, the here shown overfit decreases by increasing data set size.\n"
      ]
    },
    {
      "cell_type": "code",
      "metadata": {
        "id": "HNnQToizM-qr",
        "colab_type": "code",
        "outputId": "15299ccb-e5ea-447e-8642-2d3aab0e8cc6",
        "colab": {
          "base_uri": "https://localhost:8080/",
          "height": 903
        }
      },
      "source": [
        "print('Red Wine')\n",
        "parameters = model(X_red_train, y_red_train, X_red_test, y_red_test, num_epochs = 500, learning_rate = 0.001)\n",
        "print('White Wine')\n",
        "parameters = model(X_white_train, y_white_train, X_white_test, y_white_test, num_epochs = 1000, learning_rate = 0.001)\n",
        "print('Mixed Wine')\n",
        "parameters = model(X_train, y_train, X_test, y_test, num_epochs = 1500, learning_rate = 0.001)"
      ],
      "execution_count": 0,
      "outputs": [
        {
          "output_type": "stream",
          "text": [
            "Red Wine\n"
          ],
          "name": "stdout"
        },
        {
          "output_type": "display_data",
          "data": {
            "image/png": "[encoded data removed]",
            "text/plain": [
              "<Figure size 432x288 with 1 Axes>"
            ]
          },
          "metadata": {
            "tags": []
          }
        },
        {
          "output_type": "stream",
          "text": [
            "White Wine\n"
          ],
          "name": "stdout"
        },
        {
          "output_type": "display_data",
          "data": {
            "image/png": "[encoded data removed]",
            "text/plain": [
              "<Figure size 432x288 with 1 Axes>"
            ]
          },
          "metadata": {
            "tags": []
          }
        },
        {
          "output_type": "stream",
          "text": [
            "Mixed Wine\n"
          ],
          "name": "stdout"
        },
        {
          "output_type": "display_data",
          "data": {
            "image/png": "[encoded data removed]",
            "text/plain": [
              "<Figure size 432x288 with 1 Axes>"
            ]
          },
          "metadata": {
            "tags": []
          }
        }
      ]
    },
    {
      "cell_type": "markdown",
      "metadata": {
        "id": "YLhxoVCfNaOs",
        "colab_type": "text"
      },
      "source": [
        "For each dataset (red, white, mixed) the regulizing parameter is fine tuned to achieve the lowest cost on the validation set. The cost for training and validation set for different dropout rates is depicted."
      ]
    },
    {
      "cell_type": "code",
      "metadata": {
        "id": "ixJBoMg2NZwl",
        "colab_type": "code",
        "outputId": "a2c5e462-0ab9-457c-c3a5-8730e7eacfb3",
        "colab": {
          "base_uri": "https://localhost:8080/",
          "height": 295
        }
      },
      "source": [
        "rates = [0.1, 0.2, 0.3, 0.4, 0.5]\n",
        "costs_train = []\n",
        "costs_val = []\n",
        "\n",
        "for rate in rates:\n",
        "  _, scores = model(X_red_train, y_red_train, X_red_test, y_red_test, num_epochs = 500, learning_rate = 0.001, dropout_rate = rate, plot = False)\n",
        "  costs_train.append(scores['cost_train'])\n",
        "  costs_val.append(scores['cost_val'])\n",
        "  \n",
        "plt.plot(np.squeeze(rates), np.squeeze(costs_train), label='Train')\n",
        "plt.plot(np.squeeze(rates), np.squeeze(costs_val), label='Validation')\n",
        "plt.ylabel('cost')\n",
        "plt.xlabel('dropout rate')\n",
        "plt.title(\"Red Wine\")\n",
        "plt.legend(bbox_to_anchor=(1.05, 1), loc='upper left', borderaxespad=0.)\n",
        "plt.show()"
      ],
      "execution_count": 0,
      "outputs": [
        {
          "output_type": "display_data",
          "data": {
            "image/png": "[encoded data removed]",
            "text/plain": [
              "<Figure size 432x288 with 1 Axes>"
            ]
          },
          "metadata": {
            "tags": []
          }
        }
      ]
    },
    {
      "cell_type": "code",
      "metadata": {
        "id": "cBYpXkVWNd1j",
        "colab_type": "code",
        "outputId": "ec64ab93-6cc4-4d1f-f46b-df2a94532f7c",
        "colab": {
          "base_uri": "https://localhost:8080/",
          "height": 295
        }
      },
      "source": [
        "rates = [0, 0.1, 0.2, 0.3, 0.4, 0.5]\n",
        "costs_train = []\n",
        "costs_val = []\n",
        "\n",
        "for rate in rates:\n",
        "  _, scores = model(X_white_train, y_white_train, X_white_test, y_white_test, num_epochs = 1000, learning_rate = 0.001, dropout_rate = rate, plot = False)\n",
        "  costs_train.append(scores['cost_train'])\n",
        "  costs_val.append(scores['cost_val'])\n",
        "  \n",
        "plt.plot(np.squeeze(rates), np.squeeze(costs_train), label='Train')\n",
        "plt.plot(np.squeeze(rates), np.squeeze(costs_val), label='Validation')\n",
        "plt.ylabel('cost')\n",
        "plt.xlabel('dropout rate')\n",
        "plt.title(\"White Wine\")\n",
        "plt.legend(bbox_to_anchor=(1.05, 1), loc='upper left', borderaxespad=0.)\n",
        "plt.show()"
      ],
      "execution_count": 0,
      "outputs": [
        {
          "output_type": "display_data",
          "data": {
            "image/png": "[encoded data removed]",
            "text/plain": [
              "<Figure size 432x288 with 1 Axes>"
            ]
          },
          "metadata": {
            "tags": []
          }
        }
      ]
    },
    {
      "cell_type": "code",
      "metadata": {
        "id": "3VgqVVXANhif",
        "colab_type": "code",
        "outputId": "95be44c9-0e71-45ea-9ba0-ff892fd2ffcf",
        "colab": {
          "base_uri": "https://localhost:8080/",
          "height": 295
        }
      },
      "source": [
        "rates = [0, 0.1, 0.2, 0.3, 0.4, 0.5]\n",
        "costs_train = []\n",
        "costs_val = []\n",
        "\n",
        "for rate in rates:\n",
        "  _, scores = model(X_train, y_train, X_test, y_test, num_epochs = 1500, learning_rate = 0.001, dropout_rate = rate, plot = False)\n",
        "  costs_train.append(scores['cost_train'])\n",
        "  costs_val.append(scores['cost_val'])\n",
        "  \n",
        "plt.plot(np.squeeze(rates), np.squeeze(costs_train), label='Train')\n",
        "plt.plot(np.squeeze(rates), np.squeeze(costs_val), label='Validation')\n",
        "plt.ylabel('cost')\n",
        "plt.xlabel('dropout rate')\n",
        "plt.title(\"Red & White Wine\")\n",
        "plt.legend(bbox_to_anchor=(1.05, 1), loc='upper left', borderaxespad=0.)\n",
        "plt.show()"
      ],
      "execution_count": 0,
      "outputs": [
        {
          "output_type": "display_data",
          "data": {
            "image/png": "[encoded data removed]",
            "text/plain": [
              "<Figure size 432x288 with 1 Axes>"
            ]
          },
          "metadata": {
            "tags": []
          }
        }
      ]
    },
    {
      "cell_type": "markdown",
      "metadata": {
        "id": "Kyf_L2B8NmMD",
        "colab_type": "text"
      },
      "source": [
        "For the red wine set a dropout rate of 0.3 shows the best result. Fot the white and mixed sets a drop out rate of 0.1 seems appropriate. Furthermore the dropout rate could be tuned to an even more precise value by repeating the last step in smaller gradiations around the best rate for each set. However, the achieved results fullfill the needs of this project, therefore this extra step will not be carried out.\n",
        "\n",
        "Now knowing an appropriate architecture and regularization for each data set, the accuracy is determined at more epoches and a smaller learning rate using 3-fold cross validation."
      ]
    },
    {
      "cell_type": "code",
      "metadata": {
        "id": "biV-1gPzNo3N",
        "colab_type": "code",
        "outputId": "8433d75f-7cae-4bf0-ebca-519898d5a9ba",
        "colab": {
          "base_uri": "https://localhost:8080/",
          "height": 69
        }
      },
      "source": [
        "kf = KFold(n_splits=3, shuffle = True)\n",
        "train_acc = 0\n",
        "val_acc = 0\n",
        "    \n",
        "for train_index, test_index in kf.split(X_red):\n",
        "    X_red_train, X_red_test = X_red[train_index].T, X_red[test_index].T\n",
        "    y_red_train, y_red_test = y_red[train_index], y_red[test_index]\n",
        "    y_red_train = one_hot_matrix(y_red_train, 7)\n",
        "    y_red_test = one_hot_matrix(y_red_test, 7)\n",
        "    \n",
        "    _, scores = model(X_red_train, y_red_train, X_red_test, y_red_test, num_epochs = 1000, learning_rate = 0.0001, dropout_rate = 0.3, plot = False)\n",
        "    train_acc += scores['acc_train']\n",
        "    val_acc += scores['acc_val']\n",
        "    \n",
        "print('Red Wine:')\n",
        "print('Training set accuracy: {0:.2f}' .format(train_acc/3))\n",
        "print('Validation set accuracy: {0:.2f}' .format(val_acc/3))"
      ],
      "execution_count": 0,
      "outputs": [
        {
          "output_type": "stream",
          "text": [
            "Red Wine:\n",
            "Training set accuracy: 0.57\n",
            "Validation set accuracy: 0.55\n"
          ],
          "name": "stdout"
        }
      ]
    },
    {
      "cell_type": "code",
      "metadata": {
        "id": "CWIMp4ZhNryx",
        "colab_type": "code",
        "outputId": "8621234c-36b2-4b5c-fd62-ab7d99882eaf",
        "colab": {
          "base_uri": "https://localhost:8080/",
          "height": 69
        }
      },
      "source": [
        "kf = KFold(n_splits=3, shuffle = True)\n",
        "train_acc = 0\n",
        "val_acc = 0\n",
        "    \n",
        "for train_index, test_index in kf.split(X_white):\n",
        "    X_white_train, X_white_test = X_white[train_index].T, X_white[test_index].T\n",
        "    y_white_train, y_white_test = y_white[train_index], y_white[test_index]\n",
        "    y_white_train = one_hot_matrix(y_white_train, 7)\n",
        "    y_white_test = one_hot_matrix(y_white_test, 7)\n",
        "    \n",
        "    _, scores = model(X_white_train, y_white_train, X_white_test, y_white_test, num_epochs = 2000, learning_rate = 0.0001, dropout_rate = 0.1, plot = False)\n",
        "    train_acc += scores['acc_train']\n",
        "    val_acc += scores['acc_val']\n",
        "    \n",
        "print('White Wine:')\n",
        "print('Training set accuracy: {0:.2f}' .format(train_acc/3))\n",
        "print('Validation set accuracy: {0:.2f}' .format(val_acc/3))"
      ],
      "execution_count": 0,
      "outputs": [
        {
          "output_type": "stream",
          "text": [
            "White Wine:\n",
            "Training set accuracy: 0.57\n",
            "Validation set accuracy: 0.54\n"
          ],
          "name": "stdout"
        }
      ]
    },
    {
      "cell_type": "code",
      "metadata": {
        "id": "gvxLYU_SNuue",
        "colab_type": "code",
        "outputId": "18fb84b9-3613-41fb-845f-65267a53884f",
        "colab": {
          "base_uri": "https://localhost:8080/",
          "height": 69
        }
      },
      "source": [
        "kf = KFold(n_splits=3, shuffle = True)\n",
        "train_acc = 0\n",
        "val_acc = 0\n",
        "    \n",
        "for train_index, test_index in kf.split(X):\n",
        "    X_train, X_test = X[train_index].T, X[test_index].T\n",
        "    y_train, y_test = y[train_index], y[test_index]\n",
        "    y_train = one_hot_matrix(y_train, 7)\n",
        "    y_test = one_hot_matrix(y_test, 7)\n",
        "    \n",
        "    _, scores = model(X_train, y_train, X_test, y_test, num_epochs = 3000, learning_rate = 0.0001, dropout_rate = 0.1, plot = False)\n",
        "    train_acc += scores['acc_train']\n",
        "    val_acc += scores['acc_val']\n",
        "    \n",
        "print('Mixed Wine:')\n",
        "print('Training set accuracy: {0:.2f}' .format(train_acc/3))\n",
        "print('Validation set accuracy: {0:.2f}' .format(val_acc/3))"
      ],
      "execution_count": 0,
      "outputs": [
        {
          "output_type": "stream",
          "text": [
            "Mixed Wine:\n",
            "Training set accuracy: 0.57\n",
            "Validation set accuracy: 0.55\n"
          ],
          "name": "stdout"
        }
      ]
    },
    {
      "cell_type": "markdown",
      "metadata": {
        "id": "OLbdFzmhNyJn",
        "colab_type": "text"
      },
      "source": [
        "The tensorflow neural network shows a better result than the logistic regression and the manually implemented NN ."
      ]
    },
    {
      "cell_type": "markdown",
      "metadata": {
        "id": "BofX5PlTTFim",
        "colab_type": "text"
      },
      "source": [
        "## 3) SVM & KNN\n",
        "As a final part of the project the Support Vector Machine and K-Nearest-Neighbor methods are applied to the data sets. This is implemented using sklearn."
      ]
    },
    {
      "cell_type": "code",
      "metadata": {
        "id": "tgJjNCPgT9ti",
        "colab_type": "code",
        "colab": {}
      },
      "source": [
        "X_train, X_test = X_train.T, X_test.T\n",
        "X_red_train, X_red_test = X_red_train.T, X_red_test.T\n",
        "X_white_train, X_white_test = X_white_train.T, X_white_test.T"
      ],
      "execution_count": 0,
      "outputs": []
    },
    {
      "cell_type": "code",
      "metadata": {
        "id": "kzsDcTwUUXWI",
        "colab_type": "code",
        "outputId": "6728e176-4522-4491-eb8a-f7c8348fa54e",
        "colab": {
          "base_uri": "https://localhost:8080/",
          "height": 87
        }
      },
      "source": [
        "print('SVM:')\n",
        "clf = svm.SVC(kernel=\"linear\", C=5)\n",
        "clf.fit(X_red_train, y_red_train)\n",
        "acc = metrics.accuracy_score(y_red_test, clf.predict(X_red_test))\n",
        "print('Red Wine: {0:.2f}' .format(acc))\n",
        "clf.fit(X_white_train, y_white_train)\n",
        "acc = metrics.accuracy_score(y_white_test, clf.predict(X_white_test))\n",
        "print('White Wine: {0:.2f}' .format(acc))\n",
        "clf.fit(X_train, y_train)\n",
        "acc = metrics.accuracy_score(y_test, clf.predict(X_test))\n",
        "print('Mixed Wine: {0:.2f}' .format(acc))"
      ],
      "execution_count": 0,
      "outputs": [
        {
          "output_type": "stream",
          "text": [
            "SVM:\n",
            "Red Wine: 0.55\n",
            "White Wine: 0.52\n",
            "Mixed Wine: 0.53\n"
          ],
          "name": "stdout"
        }
      ]
    },
    {
      "cell_type": "code",
      "metadata": {
        "id": "YMJskUm4VwEX",
        "colab_type": "code",
        "outputId": "9f1d00ed-20cf-4ae3-f633-73aba89dee74",
        "colab": {
          "base_uri": "https://localhost:8080/",
          "height": 87
        }
      },
      "source": [
        "print('KNN:')\n",
        "clf = KNeighborsClassifier(n_neighbors=10, weights='distance')\n",
        "clf.fit(X_red_train, y_red_train)\n",
        "acc = metrics.accuracy_score(y_red_test, clf.predict(X_red_test))\n",
        "print('Red Wine: {0:.2f}' .format(acc))\n",
        "clf.fit(X_white_train, y_white_train)\n",
        "acc = metrics.accuracy_score(y_white_test, clf.predict(X_white_test))\n",
        "print('White Wine: {0:.2f}' .format(acc))\n",
        "clf.fit(X_train, y_train)\n",
        "acc = metrics.accuracy_score(y_test, clf.predict(X_test))\n",
        "print('Mixed Wine: {0:.2f}' .format(acc))"
      ],
      "execution_count": 0,
      "outputs": [
        {
          "output_type": "stream",
          "text": [
            "KNN:\n",
            "Red Wine: 0.65\n",
            "White Wine: 0.65\n",
            "Mixed Wine: 0.67\n"
          ],
          "name": "stdout"
        }
      ]
    },
    {
      "cell_type": "markdown",
      "metadata": {
        "id": "MIxOlwl2XVr2",
        "colab_type": "text"
      },
      "source": [
        "The KNN provides the most accurate method. Interestingly the the mixed data provides a higher accuracy than the splitted data sets. This could be due to the missing fine tuning of the hyperparameter.\n",
        "\n",
        "Also notable is that the accuracy for white wine matches the accuracy presented in the paper whereas the red wine accuracy outscores the paper by several points."
      ]
    },
    {
      "cell_type": "markdown",
      "metadata": {
        "id": "oCkjGFRrZKAj",
        "colab_type": "text"
      },
      "source": [
        "In a next step the accuracy could further be analyzed, meaning it could be observed which label was predicted how accurate, how does the accuracy change with changing tolerance, and the hyperparameter of the KNN method could be fine-tuned. The goal of this project, however, was to gain overview of different ML methods, which was at this point successfully achieved."
      ]
    }
  ]
}
